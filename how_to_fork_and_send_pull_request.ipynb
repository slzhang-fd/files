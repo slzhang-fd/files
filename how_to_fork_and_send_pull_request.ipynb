{
 "cells": [
  {
   "cell_type": "markdown",
   "metadata": {},
   "source": [
    "### *****Note that pictures in the jupyter notebook may not be shown in GitHub*****\n",
    "\n",
    "# 1. Fork\n",
    "\n",
    "1. Go to https://github.com/lse-st445/lectures2020, click \"Fork\" on the top right\n",
    "![figs/fork_main.png](https://raw.githubusercontent.com/lse-st445/lectures2020/6f0e971225682e95182356ca30fe4f4e6e969736/Week1/figs/fork_main.png?token=AHTTUGYEBI4JORA3EQEBE2K7PXNHC)\n",
    "\n",
    "\n",
    "2. Go to https://github.com/[your_user_name]/lectures2020 and check you have your own `lectures2020` repository in your GitHub account"
   ]
  },
  {
   "cell_type": "markdown",
   "metadata": {},
   "source": [
    "# 2. Clone your repository into your own computer\n",
    "\n",
    "1. Open the terminal cd into the directory you want your local copy of the `lectures2020` to be in\n",
    "2. Type the following command in the terminal\n",
    "```\n",
    "git clone https://github.com/[your_user_name]/lectures2020.git\n",
    "```\n",
    "3. Check in the directory to make sure the repository has been cloned \n",
    "\n",
    "## OR\n",
    "\n",
    "Click the green button `Code` and click `Download ZIP`. Note you should be in your own repository (e.g. `christineyuen/lectures2020`), not `lse-st445/lectures2020`.\n",
    "\n",
    "![figs/fork_zip.png](https://raw.githubusercontent.com/lse-st445/lectures2020/6f0e971225682e95182356ca30fe4f4e6e969736/Week1/figs/fork_zip.png?token=AHTTUG7VKMBIUCQBRMDYUAC7PXNH6)\n",
    "\n",
    "## OR \n",
    "\n",
    "use github desktop"
   ]
  },
  {
   "cell_type": "markdown",
   "metadata": {},
   "source": [
    "## If you want to do a Git way and keep your fork updated, please do this as well...\n",
    "\n",
    "1. Configuring a remote for a fork, see: https://docs.github.com/en/free-pro-team@latest/github/collaborating-with-issues-and-pull-requests/configuring-a-remote-for-a-fork\n",
    "\n",
    "2. Syncing a fork, see: https://docs.github.com/en/free-pro-team@latest/github/collaborating-with-issues-and-pull-requests/syncing-a-fork\n",
    "    * git add upstream https://github.com/lse-st445/lectures2020.git\n",
    "    * git fetch upstream\n",
    "    * git pull upstream master"
   ]
  },
  {
   "cell_type": "markdown",
   "metadata": {},
   "source": [
    "## After the changes has been made (e.g. debugged your code)\n",
    "# 3. Push your changes to your repository\n",
    "\n",
    "* Follow Step 2 to 5 in https://docs.github.com/en/free-pro-team@latest/github/managing-files-in-a-repository/adding-a-file-to-a-repository-using-the-command-line\n",
    "* Finish with \n",
    "```\n",
    "git push\n",
    "```\n",
    "\n",
    "## OR\n",
    "\n",
    "Upload the updated file though by the `Add file` button. Note again you should be in your own repository (e.g. `christineyuen/lectures2020`), not `lse-st445/lectures2020`.\n",
    "\n",
    "![figs/fork_add.png](https://raw.githubusercontent.com/lse-st445/lectures2020/6f0e971225682e95182356ca30fe4f4e6e969736/Week1/figs/fork_add.png?token=AHTTUGYZWSANIY2QEEFXVE27PXNJS)\n",
    "\n",
    "## OR\n",
    "\n",
    "use github desktop"
   ]
  },
  {
   "cell_type": "markdown",
   "metadata": {},
   "source": [
    "# 4. Create a pull request from a fork\n",
    "\n",
    "* Follow https://docs.github.com/en/free-pro-team@latest/github/collaborating-with-issues-and-pull-requests/creating-a-pull-request-from-a-fork\n",
    "\n",
    "* Again make sure you are in your own repository (e.g. `christineyuen/lectures2020`), not `lse-st445/lectures2020`.\n",
    "\n",
    "\n",
    "\n",
    "![figs/fork_pull.png](https://raw.githubusercontent.com/lse-st445/lectures2020/6f0e971225682e95182356ca30fe4f4e6e969736/Week1/figs/fork_pull.png?token=AHTTUG3CFIKVY4CB57FUXBK7PXNKW)"
   ]
  },
  {
   "cell_type": "code",
   "execution_count": null,
   "metadata": {},
   "outputs": [],
   "source": []
  }
 ],
 "metadata": {
  "kernelspec": {
   "display_name": "Python 3",
   "language": "python",
   "name": "python3"
  },
  "language_info": {
   "codemirror_mode": {
    "name": "ipython",
    "version": 3
   },
   "file_extension": ".py",
   "mimetype": "text/x-python",
   "name": "python",
   "nbconvert_exporter": "python",
   "pygments_lexer": "ipython3",
   "version": "3.8.3"
  }
 },
 "nbformat": 4,
 "nbformat_minor": 4
}
